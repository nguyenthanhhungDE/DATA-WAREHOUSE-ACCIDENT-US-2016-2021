{
 "cells": [
  {
   "cell_type": "code",
   "execution_count": 1,
   "metadata": {},
   "outputs": [],
   "source": [
    "import pandas as pd\n",
    "import random \n",
    "import math"
   ]
  },
  {
   "cell_type": "code",
   "execution_count": 2,
   "metadata": {},
   "outputs": [],
   "source": [
    "df = pd.read_csv('./US_Accidents_Dec21_update.csv')"
   ]
  },
  {
   "cell_type": "code",
   "execution_count": 79,
   "metadata": {},
   "outputs": [
    {
     "data": {
      "text/plain": [
       "Accident_Index                     0\n",
       "Severity                           0\n",
       "Start_Time                         0\n",
       "End_Time                           0\n",
       "Start_Lat                          0\n",
       "Start_Lng                          0\n",
       "End_Lat                            0\n",
       "End_Lng                            0\n",
       "Distance(mi)                       0\n",
       "Description                        0\n",
       "Number                        615177\n",
       "Street                             1\n",
       "Side                               0\n",
       "City                              55\n",
       "County                             0\n",
       "State                              0\n",
       "Zipcode                          435\n",
       "Country                            0\n",
       "Timezone                        1026\n",
       "Airport_Code                    3647\n",
       "Weather_Timestamp              15516\n",
       "Temperature(F)                     0\n",
       "Wind_Chill(F)                      0\n",
       "Humidity(%)                        0\n",
       "Pressure(in)                       0\n",
       "Visibility(mi)                 22534\n",
       "Wind_Direction                 22626\n",
       "Wind_Speed(mph)                57687\n",
       "Precipitation(in)             231683\n",
       "Weather_Condition              22892\n",
       "Amenity                            0\n",
       "Bump                               0\n",
       "Crossing                           0\n",
       "Give_Way                           0\n",
       "Junction                           0\n",
       "No_Exit                            0\n",
       "Railway                            0\n",
       "Roundabout                         0\n",
       "Station                            0\n",
       "Stop                               0\n",
       "Traffic_Calming                    0\n",
       "Traffic_Signal                     0\n",
       "Turning_Loop                       0\n",
       "Sunrise_Sunset                  1662\n",
       "Civil_Twilight                  1662\n",
       "Nautical_Twilight               1662\n",
       "Astronomical_Twilight           1662\n",
       "Road_Surface_Conditions            0\n",
       "Road_Type                          0\n",
       "Special_Conditions_at_Site         0\n",
       "Speed_limit                        0\n",
       "Number_of_Casualties               0\n",
       "dtype: int64"
      ]
     },
     "execution_count": 79,
     "metadata": {},
     "output_type": "execute_result"
    }
   ],
   "source": [
    "df.isna().sum()"
   ]
  },
  {
   "cell_type": "code",
   "execution_count": 76,
   "metadata": {},
   "outputs": [],
   "source": [
    "l = [17, 21, 19, 23]\n",
    "d, m, y = 0, 0, 0\n",
    "for i, row in df.iterrows():\n",
    "    if \"1/0/00\" in row['Start_Time']:\n",
    "        y = random.choice(l)\n",
    "        m = random.randint(1, 12)\n",
    "        if m == 2:\n",
    "            d = random.randint(1, 28)\n",
    "        elif m == 4 or m == 6 or m == 9 or m == 11:\n",
    "            d = random.randint(1, 30)\n",
    "        else:\n",
    "            d = random.randint(1, 31)\n",
    "    fullday = str(m) + \"/\" + str(d) + \"/\" + str(y)\n",
    "    if fullday != \"0/0/0\":\n",
    "        new_start_date = row[\"Start_Time\"].replace(\"1/0/00\", fullday)\n",
    "        new_end_date = row[\"End_Time\"].replace(\"1/0/00\", fullday)\n",
    "        df.loc[i, 'Start_Time'] = new_start_date\n",
    "        df.loc[i, 'End_Time'] = new_end_date"
   ]
  },
  {
   "cell_type": "code",
   "execution_count": 74,
   "metadata": {},
   "outputs": [],
   "source": [
    "lst_Tem = list(df['Temperature(F)'].dropna())\n",
    "lst_Wind = list(df['Wind_Chill(F)'].dropna())\n",
    "lst_Hum = list(df['Humidity(%)'].dropna())\n",
    "lst_Pre = list(df['Pressure(in)'].dropna())\n",
    "lst_WSpe = list(df['Wind_Speed(mph)'].dropna())\n",
    "lst_Prec = list(df['Precipitation(in)'].dropna())\n",
    "\n",
    "for i, v in df.iterrows():\n",
    "    if math.isnan(v['Temperature(F)']):\n",
    "        df.loc[i, 'Temperature(F)'] = random.choice(lst_Tem)\n",
    "\n",
    "for i, v in df.iterrows():\n",
    "    if math.isnan(v['Wind_Chill(F)']):\n",
    "        df.loc[i, 'Wind_Chill(F)'] = random.choice(lst_Wind)\n",
    "\n",
    "for i, v in df.iterrows():\n",
    "    if math.isnan(v['Humidity(%)']):\n",
    "        df.loc[i, 'Humidity(%)'] = random.choice(lst_Hum)\n",
    "\n",
    "for i, v in df.iterrows():\n",
    "    if math.isnan(v['Pressure(in)']):\n",
    "        df.loc[i, 'Pressure(in)'] = random.choice(lst_Pre)\n",
    "\n",
    "for i, v in df.iterrows():\n",
    "    if math.isnan(v['Wind_Speed(mph)']):\n",
    "        df.loc[i, 'Wind_Speed(mph)'] = random.choice(lst_WSpe)\n",
    "\n",
    "for i, v in df.iterrows():\n",
    "    if math.isnan(v['Precipitation(in)']):\n",
    "        df.loc[i, 'Precipitation(in)'] = random.choice(lst_Prec)\n"
   ]
  },
  {
   "cell_type": "code",
   "execution_count": null,
   "metadata": {},
   "outputs": [],
   "source": [
    "lst_Visi = list(df['Visibility(mi)'].dropna())\n",
    "for i, v in df.iterrows():\n",
    "    if math.isnan(v['Visibility(mi)']):\n",
    "        df.loc[i, 'Visibility(mi)'] = random.choice(lst_Visi)"
   ]
  },
  {
   "cell_type": "code",
   "execution_count": 77,
   "metadata": {},
   "outputs": [],
   "source": [
    "df.to_csv('./Accident.csv', index=False)"
   ]
  }
 ],
 "metadata": {
  "kernelspec": {
   "display_name": "Python 3",
   "language": "python",
   "name": "python3"
  },
  "language_info": {
   "codemirror_mode": {
    "name": "ipython",
    "version": 3
   },
   "file_extension": ".py",
   "mimetype": "text/x-python",
   "name": "python",
   "nbconvert_exporter": "python",
   "pygments_lexer": "ipython3",
   "version": "3.10.2"
  },
  "orig_nbformat": 4
 },
 "nbformat": 4,
 "nbformat_minor": 2
}
